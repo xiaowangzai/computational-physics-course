{
 "cells": [
  {
   "cell_type": "markdown",
   "metadata": {},
   "source": [
    "import networkx as nx\n",
    "import  numpy as np"
   ]
  },
  {
   "cell_type": "markdown",
   "metadata": {},
   "source": [
    "# NODE"
   ]
  },
  {
   "cell_type": "markdown",
   "metadata": {},
   "source": [
    "In this code, i choose L=even number lattice to aviod some boudary problems,and I fix all the link to node tutor parameter  and conductance,only update region to link tutor parameter,but the results show these parameter will converge. "
   ]
  },
  {
   "cell_type": "code",
   "execution_count": 31,
   "metadata": {
    "collapsed": true
   },
   "outputs": [],
   "source": [
    "def Generator(L):\n",
    "    G=nx.Graph()\n",
    "    for i in range(L**2):\n",
    "        x=i//L\n",
    "        y=i%L\n",
    "        G.add_node(i,attr='node',potensail=0,resource=np.random.rand(),position=(x,y))\n",
    "    for i in G.nodes():\n",
    "        x=G.node[i]['position'][0]\n",
    "        y=G.node[i]['position'][1]\n",
    "        neiborposition=[((x+1)%L,y),((x-1)%L,y),(x,(y-1)%L),(x,(y+1)%L)]\n",
    "        for position in neiborposition:\n",
    "            x1=position[0]\n",
    "            y1=position[1]\n",
    "            node=x1*L+y1\n",
    "            G.add_edge(i,node)\n",
    "    for i,j in G.edges():\n",
    "        G.add_node((i,j), attr='link')\n",
    "    \n",
    "    for i in G.nodes():\n",
    "        if G.node[i]['attr']=='node':\n",
    "            x=G.node[i]['position'][0]\n",
    "            y=G.node[i]['position'][1]\n",
    "            regionlist=[(x,(y+1)%L),((x+1)%L,y),((x+1)%L,(y+1)%L)]\n",
    "            A,B,C=[i*L+j for i,j in regionlist]\n",
    "            G.add_node((i,A,B,C),attr='region')  \n",
    "    for i,j in G.edges():\n",
    "        G.remove_edge(i,j)\n",
    "    for i in G.nodes():\n",
    "        if G.node[i]['attr']=='link':\n",
    "            G.add_edge(i,i[0],attr='link to node')\n",
    "            G.add_edge(i,i[1],attr='link to node')\n",
    "        \n",
    "    for i in G.nodes():\n",
    "        if G.node[i]['attr']=='region':\n",
    "            a,b,c,d=i[0],i[1],i[2],i[3]\n",
    "            x1,y1=sorted((a,b))\n",
    "            x2,y2=sorted((a,c))\n",
    "            x3,y3=sorted((b,d))\n",
    "            x4,y4=sorted((c,d))\n",
    "            G.add_edge(i,(x1,y1),attr='region to link')\n",
    "            G.add_edge(i,(x2,y2),attr='region to link')\n",
    "            G.add_edge(i,(x3,y3),attr='region to link')\n",
    "            G.add_edge(i,(x4,y4),attr='region to link')\n",
    "    for i,j in G.edges():\n",
    "        if G.edge[i][j]['attr']=='link to node':\n",
    "            G.edge[i][j]['coff']=np.random.rand()\n",
    "            G.edge[i][j]['tutor']=np.random.rand()\n",
    "        \n",
    "    for i,j in G.edges():\n",
    "        if G.edge[i][j]['attr']=='region to link':\n",
    "            G.edge[i][j]['coff']={i[0]:np.random.rand(),i[1]:np.random.rand(),i:np.random.rand()}\n",
    "            G.edge[i][j]['tutor']={i[0]:np.random.rand(),i[1]:np.random.rand()}\n",
    "            \n",
    "            \n",
    "    for i in G.nodes():\n",
    "        if G.node[i]['attr']=='node':\n",
    "            x,y=G.node[i]['position']\n",
    "            if x%2==0 and y%2==0:\n",
    "                G.node[i]['kind']='s'\n",
    "                G.node[i]['resource']=1\n",
    "                \n",
    "            elif x%2!=0 and y%2!=0:\n",
    "                G.node[i]['kind']='d'\n",
    "                G.node[i]['rsource']=2\n",
    "            else:\n",
    "                G.node[i]['kind']='r'\n",
    "                G.node[i]['rsource']=-1.5\n",
    "                \n",
    "                \n",
    "    for i,j in G.edges():\n",
    "        if G.edge[i][j]['attr']=='link to node':\n",
    "            m=[l for l in j if l!=i][0]\n",
    "            kind1=G.node[i]['kind']\n",
    "            kind2=G.node[m]['kind']\n",
    "            if kind2=='d' and kind1=='r':\n",
    "                G.edge[i][j]['coff']=np.sqrt(33)/6\n",
    "                G.edge[i][j]['tutor']=-1\n",
    "            elif kind2=='r' and kind1=='d':\n",
    "                G.edge[i][j]['coff']=(15+np.sqrt(33))/32\n",
    "                G.edge[i][j]['tutor']=0\n",
    "            elif kind2=='s' and kind1=='r':\n",
    "                G.edge[i][j]['coff']=(np.sqrt(33)+3)/12\n",
    "                G.edge[i][j]['tutor']=-7/8\n",
    "            elif kind2=='r' and kind1=='s':\n",
    "                G.edge[i][j]['coff']=(np.sqrt(33)+3)/12\n",
    "                G.edge[i][j]['tutor']=-3/8\n",
    "                \n",
    "                \n",
    "                \n",
    "    for i,j in G.edges():\n",
    "        if G.edge[i][j]['attr']=='region to link':\n",
    "            x,y=i[0],i[1]\n",
    "            xkind,ykind=G.node[x]['kind'],G.node[y]['kind']\n",
    "            if [xkind,ykind]==['s','r']or[xkind,ykind]==['r','s']:\n",
    "                nodeS=[m for m in i if G.node[m]['kind']=='s'][0]\n",
    "                nodeR=[m for m in i if G.node[m]['kind']=='r'][0]\n",
    "                G.edge[i][j]['coff'][nodeS]=0\n",
    "                G.edge[i][j]['coff'][nodeR]=0.0213\n",
    "                G.edge[i][j]['coff'][i]=0\n",
    "            elif [xkind,ykind]==['d','r']or[xkind,ykind]==['r','d']:\n",
    "                    nodeD=[m for m in i if G.node[m]['kind']=='d'][0]\n",
    "                    nodeR=[m for m in i if G.node[m]['kind']=='r'][0]\n",
    "                    G.edge[i][j]['coff'][nodeD]=0.0603\n",
    "                    G.edge[i][j]['coff'][nodeR]=-0.1144\n",
    "                    G.edge[i][j]['coff'][i]=0.0931\n",
    "                \n",
    "          \n",
    "    return G  "
   ]
  },
  {
   "cell_type": "code",
   "execution_count": null,
   "metadata": {
    "collapsed": true
   },
   "outputs": [],
   "source": [
    "def updateG(G):\n",
    "    newG=G.copy()\n",
    "    for a,alpha in G.edges():\n",
    "        if G.edge[a][alpha]['attr']=='region to link':\n",
    "            node1=a[0]\n",
    "            node2=a[1]\n",
    "            linklist=[m for m in G.neighbors(alpha) if m!=a]\n",
    "            link16=[m for m in linklist if m[0]==a[0] or m[1]==a[0]][0]\n",
    "            link25=[m for m in linklist if m[0]==a[1] or m[1]==a[1]][0]\n",
    "            link56=[m for m in linklist if m!=link16 and m!=link25][0]\n",
    "            gamma=[m for m in G.neighbors(link16) if G.node[m]['attr']=='region' and m!=alpha ][0]\n",
    "            beta=[m for m in G.neighbors(link25) if G.node[m]['attr']=='region' and m!=alpha ][0]\n",
    "            eta=[m for m in G.neighbors(link56) if G.node[m]['attr']=='region' and m!=alpha ][0]\n",
    "            node6=[m for m in link16 if m!=a[0]][0]\n",
    "            node5=[m for m in link25 if m!=a[1]][0]\n",
    "            link68,link67=[m for m in G.neighbors(node6) if m not in [link16,link56]]\n",
    "            link45,link35=[m for m in G.neighbors(node5) if m not in [link56,link25]]\n",
    "            node3=[m for m in link35 if m!=node5][0]\n",
    "            node4=[m for m in link45 if m!=node5][0]\n",
    "            node7=[m for m in link67 if m !=node6][0]\n",
    "            node8=[m for m in link68 if m!=node6][0]\n",
    "            nodekind1=G.node[node1]['kind']\n",
    "            nodekind2=G.node[node2]['kind']\n",
    "            if nodekind1=='d' or nodekind2=='d':\n",
    "                A=G.edge[node5][link35]['coff']+G.edge[node5][link45]['coff']+G.edge[link25][beta]['coff'][node5]+G.edge[link56][eta]['coff'][node5]\n",
    "                B=G.edge[node5][link35]['coff']*G.edge[node5][link35]['tutor']+G.edge[node5][link45]['coff']*G.edge[node5][link45]['tutor']+G.edge[link25][beta]['coff'][node5]*G.edge[link25][beta]['tutor'][node5]+G.edge[link25][beta]['coff'][node5]*G.edge[link25][beta]['tutor'][node5]\n",
    "                C=G.edge[node6][link67]['coff']+G.edge[node6][link68]['coff']+G.edge[link16][gamma]['coff'][node6]+G.edge[link56][eta]['coff'][node6]\n",
    "                D=G.edge[node6][link67]['coff']*G.edge[node6][link67]['tutor']+G.edge[node6][link68]['coff']*G.edge[node6][link68]['tutor']+G.edge[link16][gamma]['coff'][node6]*G.edge[link16][gamma]['tutor'][node6]+G.edge[link56][eta]['coff'][node6]*G.edge[link56][eta]['tutor'][node6]\n",
    "                a_a=1+G.edge[link56][eta]['coff'][link56]\n",
    "                b=1+G.edge[link25][beta]['coff'][link25]\n",
    "                c=1+G.edge[link16][gamma]['coff'][link16]\n",
    "                E=(A+b+a_a)*(C+c+a_a)-a_a*a_a\n",
    "                F1=G.edge[link16][gamma]['coff'][node1]*G.edge[link16][gamma]['tutor'][node1]+c/E*((A+b+a_a)*(D+G.node[node6]['resource'])+a_a*(B+G.node[node5]['resource']))\n",
    "                F2=G.edge[link25][beta]['coff'][node2]*G.edge[link25][beta]['tutor'][node2]+b/E*((C+c+a_a)*(B+G.node[node5]['resource'])+a_a*(D+G.node[node6]['resource']))\n",
    "                newG.edge[a][alpha]['tutor'][node1]=(F1-G.edge[node1][link16]['coff']*newG.edge[node1][link16]['tutor'])/G.edge[a][alpha]['coff'][node1]\n",
    "                newG.edge[a][alpha]['tutor'][node2]=(F2-G.edge[node2][link25]['coff']*newG.edge[node2][link25]['tutor'])/G.edge[a][alpha]['coff'][node2]\n",
    "            elif nodekind1=='s' and nodekind2=='r':\n",
    "                A=G.edge[node5][link35]['coff']+G.edge[node5][link45]['coff']+G.edge[link25][beta]['coff'][node5]+G.edge[link56][eta]['coff'][node5]\n",
    "                B=G.edge[node6][link67]['coff']+G.edge[node6][link68]['coff']+G.edge[link16][gamma]['coff'][node6]+G.edge[link56][eta]['coff'][node6]\n",
    "                C=G.edge[node6][link67]['coff']*G.edge[node6][link67]['tutor']+G.edge[node6][link68]['coff']*G.edge[node6][link68]['tutor']+G.edge[link16][gamma]['coff'][node6]*G.edge[link16][gamma]['tutor'][node6]+G.edge[link56][eta]['coff'][node6]*G.edge[link56][eta]['tutor'][node6]\n",
    "                a_a=1+G.edge[link56][eta]['coff'][link56]\n",
    "                b=1+G.edge[link25][beta]['coff'][link25]\n",
    "                c=1+G.edge[link16][gamma]['coff'][link16]\n",
    "                F=G.edge[link16][gamma]['coff'][node1]*G.edge[link16][gamma]['tutor'][node1]+c*(C+G.node[node6]['resource'])/(B+a_a+c)\n",
    "                newG.edge[a][alpha]['tutor'][node2]=(G.edge[link25][beta]['coff'][node2]*G.edge[link25][beta]['tutor'][node2]-G.edge[node2][link25]['coff']*newG.edge[node2][link25]['tutor'])/G.edge[a][alpha]['tutor'][node2]\n",
    "            elif  nodekind1=='r' and  nodekind2=='s':\n",
    "                A=G.edge[node5][link35]['coff']+G.edge[node5][link45]['coff']+G.edge[link25][beta]['coff'][node5]+G.edge[link56][eta]['coff'][node5]\n",
    "                B=G.edge[node6][link67]['coff']+G.edge[node6][link68]['coff']+G.edge[link16][gamma]['coff'][node6]+G.edge[link56][eta]['coff'][node6]\n",
    "                C=G.edge[node5][link35]['coff']*G.edge[node5][link35]['tutor']+G.edge[node5][link45]['coff']*G.edge[node5][link45]['tutor']+G.edge[link25][beta]['coff'][node5]*G.edge[link25][beta]['tutor'][node5]+G.edge[link25][beta]['coff'][node5]*G.edge[link25][beta]['tutor'][node5]\n",
    "                a_a=1+G.edge[link56][eta]['coff'][link56]\n",
    "                b=1+G.edge[link25][beta]['coff'][link25]\n",
    "                c=1+G.edge[link16][gamma]['coff'][link16]\n",
    "                F=G.edge[link25][beta]['coff'][node2]*G.edge[link25][beta]['tutor'][node2]+b*(C+G.node[node5]['resource'])/(A+a_a+b)\n",
    "                newG.edge[a][alpha]['tutor'][node1]=(G.edge[link16][gamma]['coff'][node1]*G.edge[link16][gamma]['tutor'][node1]-G.edge[node1][link16]['coff']*newG.edge[node1][link16]['tutor'])/G.edge[a][alpha]['tutor'][node1]\n",
    "    \n",
    "                \n",
    "                \n",
    "    \n",
    "    \n",
    "    return newG  \n",
    "    \n",
    "            \n",
    "        \n",
    "        "
   ]
  },
  {
   "cell_type": "markdown",
   "metadata": {},
   "source": [
    "## Generate graph"
   ]
  },
  {
   "cell_type": "code",
   "execution_count": 33,
   "metadata": {
    "collapsed": false
   },
   "outputs": [],
   "source": [
    "G=Generator(4) "
   ]
  },
  {
   "cell_type": "markdown",
   "metadata": {},
   "source": [
    "## update GBP algorithm"
   ]
  },
  {
   "cell_type": "markdown",
   "metadata": {},
   "source": [
    "for i in range(40):\n",
    "    G=updateG(G)"
   ]
  },
  {
   "cell_type": "markdown",
   "metadata": {},
   "source": [
    "## show link to node tutor parameters"
   ]
  },
  {
   "cell_type": "code",
   "execution_count": 37,
   "metadata": {
    "collapsed": false
   },
   "outputs": [
    {
     "name": "stdout",
     "output_type": "stream",
     "text": [
      "{0: 0.7930018394938947, 4: 4.3635873432238551e+140}\n",
      "{0: 0.6032251733441388, 4: 6.9848416392707967e-46}\n",
      "{0: 0.9325871505676168, 12: 2.4582773834695962e-08}\n",
      "{0: 0.2661306474835686, 12: 1.2623719348706955e+33}\n",
      "{0: 0.32785997600851524, 3: 1.7152345556874307e-09}\n",
      "{0: 0.9210848242261811, 3: 310786937409654.19}\n",
      "{0: 0.36630221455582335, 1: 2.8194639470682791e+134}\n",
      "{0: 0.48963700918379616, 1: 1.3749886238175649e-63}\n",
      "{1: -7.024529759466067e+73, 5: 3.4613046476704598e+75}\n",
      "{1: -7.1697179096682548, 5: 2.9865686403039704}\n",
      "{1: -7.2446409952604709, 13: 70.946060167082535}\n",
      "{1: -3.6546531443568876e+73, 13: 1.8008134843255742e+75}\n",
      "{1: 4.8147694634562984e-65, 2: 0.3291315959378186}\n",
      "{1: 4.4899981454201184e+93, 2: 0.22570040030152472}\n",
      "{2: 0.9147242920948485, 6: 1.8472397747657278e-142}\n",
      "{2: 0.11330727277831854, 6: 1.1818541099428654e+37}\n",
      "{2: 0.7555771377047055, 14: 5.5835565707388053e+137}\n",
      "{2: 0.8393285888921863, 14: 2.8273258530049815e-17}\n",
      "{2: 0.86289903848956, 3: 2.2392437079875834e+41}\n",
      "{2: 0.4388388045203795, 3: 1.0612454587126052e-07}\n",
      "{3: -3.5444438681907628e+27, 7: 1.051004788307707e+30}\n",
      "{3: -6.8677041846021449, 7: 22.596271312227799}\n",
      "{3: -7.0681554968655371, 15: 85.921929596147606}\n",
      "{3: -3.2333641311816512e+25, 15: 9.5740932985872844e+27}\n",
      "{4: 4.0064109851764718e-61, 8: 0.9826085185317728}\n",
      "{4: 2.4948209982500889e+107, 8: 0.304788349741695}\n",
      "{4: -6.9294297637892024, 7: 52.028747064278825}\n",
      "{4: -1.7853148673245034e+66, 7: 8.7970526956797024e+67}\n",
      "{4: -5.9810909702226172e+72, 5: 1.773536991344058e+75}\n",
      "{4: -7.017677579253716, 5: 8.5502621886279684}\n",
      "{5: 7.2176265672578515, 9: -6.2723358407359662}\n",
      "{5: 1.9972656439145029e+119, 9: -3.883243874341961e+149}\n",
      "{5: 15.971614639217535, 6: -6.2224043592489657}\n",
      "{5: 2.3707155939228505e+149, 6: -3.3064184603644081e+148}\n",
      "{6: 2.756882112419902e+58, 10: 0.5311497837057544}\n",
      "{6: 9.9377824660314198e-121, 10: 0.6653016871290339}\n",
      "{6: -1.7078336667441381e+141, 7: 8.2735248479256343e+31}\n",
      "{6: -6.7024697538264082, 7: 45.999120791672262}\n",
      "{7: 21.241537912614362, 11: -6.6597394093718592}\n",
      "{7: 1.852673986510057e+66, 11: -2.5839098902190458e+65}\n",
      "{8: 0.5325183985354011, 12: 4.7053013265745678e+58}\n",
      "{8: 0.14866046622197682, 12: 0.4391826144667943}\n",
      "{8: 0.7467009764303885, 11: 3.1511693298602648e+112}\n",
      "{8: 0.782120061013043, 11: 2.7103296245219437e-36}\n",
      "{8: 0.00813462317372815, 9: 7.8939989901081405e-151}\n",
      "{8: 0.06340825768202185, 9: 5.5705962781909918e+33}\n",
      "{9: -4.0422221891790356e+149, 13: 1.4628313094938961e+38}\n",
      "{9: -6.9648161533233752, 13: 64.684420329107638}\n",
      "{9: 6.6573138819217697e+59, 10: 0.9908184597169613}\n",
      "{9: 8.5400144293713066e-151, 10: 0.9745449739366149}\n",
      "{10: 0.9449635213158954, 14: 2.1651526780470729e-37}\n",
      "{10: 0.9794977792868589, 14: 4.0852010619778283e+98}\n",
      "{10: 0.7750610237307759, 11: 1.9122938416010581e-41}\n",
      "{10: 0.9123710912693817, 11: 2.1188688134669706e+62}\n",
      "{11: -1.2280372088948137e+63, 15: 8.8050771429686593e+63}\n",
      "{11: -7.1795371610156771, 15: 85.913101551115673}\n",
      "{12: -6.8393568183960367, 15: 121.67321973768117}\n",
      "{12: -66914982450148.516, 15: 19726032912340244.0}\n",
      "{12: -4.6146307406544916e+25, 13: 1.3683482905250351e+28}\n",
      "{12: -6.8297051383201861, 13: 124.57139502417924}\n",
      "{13: 111.47673106983116, 14: -6.5048275085424825}\n",
      "{13: 4.1345214941585268e+63, 14: -5.7663847270850923e+62}\n",
      "{14: -1.4323248670008787e+45, 15: 1.0269828018011207e+46}\n",
      "{14: -6.8969109921752887, 15: 118.91838167459979}\n"
     ]
    }
   ],
   "source": [
    "for i,j in G.edges():\n",
    "    if G.edge[i][j]['attr']=='region to link':\n",
    "        print(G.edge[i][j]['tutor'])"
   ]
  },
  {
   "cell_type": "code",
   "execution_count": null,
   "metadata": {
    "collapsed": true
   },
   "outputs": [],
   "source": []
  }
 ],
 "metadata": {
  "kernelspec": {
   "display_name": "Python 3",
   "language": "python",
   "name": "python3"
  },
  "language_info": {
   "codemirror_mode": {
    "name": "ipython",
    "version": 3
   },
   "file_extension": ".py",
   "mimetype": "text/x-python",
   "name": "python",
   "nbconvert_exporter": "python",
   "pygments_lexer": "ipython3",
   "version": "3.6.0"
  }
 },
 "nbformat": 4,
 "nbformat_minor": 2
}
