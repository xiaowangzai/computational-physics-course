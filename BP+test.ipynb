{
 "cells": [
  {
   "cell_type": "code",
   "execution_count": 39,
   "metadata": {
    "collapsed": true
   },
   "outputs": [],
   "source": [
    "import networkx as nx\n",
    "import numpy as np"
   ]
  },
  {
   "cell_type": "code",
   "execution_count": 40,
   "metadata": {
    "collapsed": false
   },
   "outputs": [],
   "source": [
    "G=nx.erdos_renyi_graph(10,0.4)\n",
    "DG=nx.DiGraph(G)\n",
    "base=9\n",
    "A=nx.laplacian_matrix(G)\n",
    "Bmatrix=np.mat(np.random.rand(9,9))\n",
    "for i in range(9):\n",
    "    for j in range(9):\n",
    "        Bmatrix[i,j]=A[i,j]\n",
    "        \n",
    "inverseB=np.linalg.inv(Bmatrix)   "
   ]
  },
  {
   "cell_type": "code",
   "execution_count": 41,
   "metadata": {
    "collapsed": false
   },
   "outputs": [],
   "source": [
    "Cmatrix=np.mat(np.random.rand(9,9))\n",
    "for i in range(9):\n",
    "    for j in range(9):\n",
    "        Cmatrix[i,j]=inverseB[i,j]**2\n",
    "        "
   ]
  },
  {
   "cell_type": "code",
   "execution_count": 42,
   "metadata": {
    "collapsed": true
   },
   "outputs": [],
   "source": [
    "for i in DG.nodes():\n",
    "    DG.node[i]['resource']=np.random.rand()\n",
    "    \n",
    "for i,j in DG.edges():\n",
    "    DG.edge[i][j]['conductance']=np.random.rand()\n",
    "    DG.edge[i][j]['potential']=np.random.rand()  \n",
    "    \n",
    "neiborbase=DG.neighbors(base)\n",
    "for i in neiborbase:\n",
    "    DG.edge[base][i]['conductance']=1\n",
    "    DG.edge[base][i]['potential']=0     "
   ]
  },
  {
   "cell_type": "code",
   "execution_count": 43,
   "metadata": {
    "collapsed": true
   },
   "outputs": [],
   "source": [
    "def updateDG(DG):\n",
    "    for j,i in DG.edges():\n",
    "        neibornode=[k for k in DG.neighbors(j) if k !=i]\n",
    "        A=[DG.edge[k][j]['conductance'] for k in neibornode]\n",
    "        B=[DG.edge[k][j]['potential'] for k in neibornode ]\n",
    "        \n",
    "        if j==base:\n",
    "            DG.edge[j][i]['conductance']=1\n",
    "            DG.edge[j][i]['potential']=0\n",
    "        else:\n",
    "            DG.edge[j][i]['conductance']=sum(A)/(sum(A)+1)\n",
    "            DG.edge[j][i]['potential']=(sum(B)+DG.node[j]['resource'])/(sum(A)+1)\n",
    "            \n",
    "            \n",
    "    for i in DG.nodes():\n",
    "        neibornode=[j for j in DG.neighbors(i) ]\n",
    "        A=[DG.edge[j][i]['conductance'] for j in neibornode]\n",
    "        B=[DG.edge[j][i]['potential'] for j in neibornode ]\n",
    "        DG.node[i]['potential']=(sum(B)+DG.node[i]['resource'])/sum(A)\n",
    "    \n",
    "    \n",
    "            \n",
    "    return DG           \n",
    "            \n",
    "        \n"
   ]
  },
  {
   "cell_type": "code",
   "execution_count": 44,
   "metadata": {
    "collapsed": true
   },
   "outputs": [],
   "source": [
    "def getpotential(DG):\n",
    "    potentail=[] \n",
    "    for i in range(9):\n",
    "        potentail.append(DG.node[i]['potential'])\n",
    "    potentail=np.mat(potentail)\n",
    "    potentail=potentail.reshape(9,1)\n",
    "    \n",
    "    return potentail          \n",
    "    \n",
    "    "
   ]
  },
  {
   "cell_type": "code",
   "execution_count": 45,
   "metadata": {
    "collapsed": true
   },
   "outputs": [],
   "source": [
    "def getresource(DG):\n",
    "    resourcelist=[]\n",
    "    for i in range(9):\n",
    "        resourcelist.append(DG.node[i]['resource'])\n",
    "        \n",
    "    resourcelist=np.mat(resourcelist)\n",
    "    resourcelist=resourcelist.reshape(9,1)\n",
    "    return resourcelist               "
   ]
  },
  {
   "cell_type": "code",
   "execution_count": 46,
   "metadata": {
    "collapsed": true
   },
   "outputs": [],
   "source": [
    "def getbppotential(DG):\n",
    "    bppotentail=[] \n",
    "    for i in range(9):\n",
    "        bppotentail.append(DG.node[i]['bpdeltapotential'])\n",
    "    bppotentail=np.mat(bppotentail)\n",
    "    bppotentail=bppotentail.reshape(9,1)\n",
    "    \n",
    "    return bppotentail             \n",
    "    \n",
    "    "
   ]
  },
  {
   "cell_type": "code",
   "execution_count": 47,
   "metadata": {
    "collapsed": true
   },
   "outputs": [],
   "source": [
    "for i in range(500):\n",
    "    DG=updateDG(DG)      "
   ]
  },
  {
   "cell_type": "code",
   "execution_count": 48,
   "metadata": {
    "collapsed": true
   },
   "outputs": [],
   "source": [
    "DGpotentaillist=getpotential(DG)\n",
    "DGresourcelist=getresource(DG)  "
   ]
  },
  {
   "cell_type": "code",
   "execution_count": null,
   "metadata": {
    "collapsed": true
   },
   "outputs": [],
   "source": []
  },
  {
   "cell_type": "code",
   "execution_count": 49,
   "metadata": {
    "collapsed": true
   },
   "outputs": [],
   "source": [
    "allstand=[]\n",
    "alllaplace=[]\n",
    "allbp=[]"
   ]
  },
  {
   "cell_type": "code",
   "execution_count": 50,
   "metadata": {
    "collapsed": false
   },
   "outputs": [],
   "source": [
    "\n",
    "for i in range(100):\n",
    "    fDG=DG.copy()\n",
    "    for i in fDG.nodes():\n",
    "        fDG.node[i]['resource']=DG.node[i]['resource']+0.1*np.random.normal(0,1)\n",
    "    for i in range(500):\n",
    "        fDG=updateDG(fDG)\n",
    "        \n",
    "    for i,j in fDG.edges():\n",
    "        fDG.edge[i][j]['delta']=fDG.edge[i][j]['potential']-DG.edge[i][j]['potential']\n",
    "        \n",
    "    for i in fDG.nodes():\n",
    "        neibornode=[j for j in fDG.neighbors(i) ]\n",
    "        A=[fDG.edge[j][i]['conductance'] for j in neibornode]\n",
    "        B=[fDG.edge[j][i]['delta']**2 for j in neibornode]\n",
    "        fDG.node[i]['bpdeltapotential']=(sum(B)+(fDG.node[i]['resource']-DG.node[i]['resource'])**2)/(sum(A))**2\n",
    "   \n",
    "    fDGpotentaillist=getpotential(fDG)\n",
    "    fDGresourcelist=getresource(fDG)\n",
    "    fDGGbppotentiallist=getbppotential(fDG)\n",
    "    deltapotential=fDGpotentaillist-DGpotentaillist\n",
    "    stand=np.multiply(deltapotential,deltapotential)\n",
    "    deltaresource=fDGresourcelist-DGresourcelist\n",
    "    A=np.multiply(deltaresource,deltaresource)\n",
    "    laplace=Cmatrix*A\n",
    "    \n",
    "    allstand.append(stand)\n",
    "    alllaplace.append(laplace)\n",
    "    allbp.append(fDGGbppotentiallist)    \n",
    "    "
   ]
  },
  {
   "cell_type": "code",
   "execution_count": 57,
   "metadata": {
    "collapsed": false
   },
   "outputs": [],
   "source": [
    "A=sum(allstand)/100"
   ]
  },
  {
   "cell_type": "code",
   "execution_count": 58,
   "metadata": {
    "collapsed": false
   },
   "outputs": [],
   "source": [
    "B=sum(allbp)/100"
   ]
  },
  {
   "cell_type": "code",
   "execution_count": 59,
   "metadata": {
    "collapsed": true
   },
   "outputs": [],
   "source": [
    "C=sum(alllaplace)/100"
   ]
  },
  {
   "cell_type": "code",
   "execution_count": 60,
   "metadata": {
    "collapsed": false
   },
   "outputs": [
    {
     "data": {
      "text/plain": [
       "matrix([[ 0.01048203],\n",
       "        [ 0.00852397],\n",
       "        [ 0.00409864],\n",
       "        [ 0.00369001],\n",
       "        [ 0.00511357],\n",
       "        [ 0.00798292],\n",
       "        [ 0.00906083],\n",
       "        [ 0.00410886],\n",
       "        [ 0.00511726]])"
      ]
     },
     "execution_count": 60,
     "metadata": {},
     "output_type": "execute_result"
    }
   ],
   "source": [
    "C"
   ]
  },
  {
   "cell_type": "code",
   "execution_count": 61,
   "metadata": {
    "collapsed": false
   },
   "outputs": [
    {
     "data": {
      "text/plain": [
       "matrix([[ 0.00447086],\n",
       "        [ 0.0030717 ],\n",
       "        [ 0.00393769],\n",
       "        [ 0.0014239 ],\n",
       "        [ 0.00193603],\n",
       "        [ 0.00402353],\n",
       "        [ 0.00344198],\n",
       "        [ 0.00200966],\n",
       "        [ 0.00246309]])"
      ]
     },
     "execution_count": 61,
     "metadata": {},
     "output_type": "execute_result"
    }
   ],
   "source": [
    "B"
   ]
  },
  {
   "cell_type": "code",
   "execution_count": 62,
   "metadata": {
    "collapsed": false
   },
   "outputs": [
    {
     "data": {
      "text/plain": [
       "matrix([[ 0.01055919],\n",
       "        [ 0.00838269],\n",
       "        [ 0.00350954],\n",
       "        [ 0.00368324],\n",
       "        [ 0.0052195 ],\n",
       "        [ 0.0080726 ],\n",
       "        [ 0.00880583],\n",
       "        [ 0.00420809],\n",
       "        [ 0.00539329]])"
      ]
     },
     "execution_count": 62,
     "metadata": {},
     "output_type": "execute_result"
    }
   ],
   "source": [
    "A"
   ]
  },
  {
   "cell_type": "code",
   "execution_count": 63,
   "metadata": {
    "collapsed": true
   },
   "outputs": [],
   "source": [
    "xray=np.linspace(0,8,9)\n",
    "Barray=[B[i,0] for i in range(9)] \n",
    "Aarray=[A[i,0] for i in range(9)] \n",
    "Carray=[C[i,0] for i in range(9)] "
   ]
  },
  {
   "cell_type": "code",
   "execution_count": 64,
   "metadata": {
    "collapsed": true
   },
   "outputs": [],
   "source": [
    "import matplotlib.pyplot as plt"
   ]
  },
  {
   "cell_type": "code",
   "execution_count": 65,
   "metadata": {
    "collapsed": false
   },
   "outputs": [
    {
     "data": {
      "image/png": "[encoded data removed]",
      "text/plain": [
       "<matplotlib.figure.Figure at 0x10f424e10>"
      ]
     },
     "metadata": {},
     "output_type": "display_data"
    }
   ],
   "source": [
    "plt.scatter(xray,Barray)\n",
    "plt.scatter(xray,Aarray,c='r')\n",
    "plt.scatter(xray,Carray,c='b')\n",
    "plt.show()"
   ]
  },
  {
   "cell_type": "code",
   "execution_count": null,
   "metadata": {
    "collapsed": true
   },
   "outputs": [],
   "source": []
  }
 ],
 "metadata": {
  "kernelspec": {
   "display_name": "Python 3",
   "language": "python",
   "name": "python3"
  },
  "language_info": {
   "codemirror_mode": {
    "name": "ipython",
    "version": 3
   },
   "file_extension": ".py",
   "mimetype": "text/x-python",
   "name": "python",
   "nbconvert_exporter": "python",
   "pygments_lexer": "ipython3",
   "version": "3.6.0"
  }
 },
 "nbformat": 4,
 "nbformat_minor": 2
}
